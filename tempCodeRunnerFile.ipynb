
eq_std = povrat_eq_df.std() * 252**0.5
eq_return = (1 + povrat_eq_df.mean())**252 - 1
eq_sharpe = eq_return[0] / eq_std[0]

eq_portfolio.append(eq_std[0])
eq_portfolio.append(eq_return[0])
eq_portfolio.append(eq_sharpe)
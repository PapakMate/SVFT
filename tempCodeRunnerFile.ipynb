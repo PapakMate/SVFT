returns_df = pd.DataFrame(index=prices_df.index)
returns_df['Date'] = prices_df['Date']